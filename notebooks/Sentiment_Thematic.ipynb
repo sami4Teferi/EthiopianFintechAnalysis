{
 "cells": [
  {
   "cell_type": "code",
   "execution_count": 2,
   "id": "f9174d46",
   "metadata": {},
   "outputs": [],
   "source": [
    "import sys\n",
    "import os\n",
    "import pandas as pd\n",
    "from IPython.display import display\n",
    "\n",
    "\n",
    "sys.path.append('../scripts')"
   ]
  },
  {
   "cell_type": "code",
   "execution_count": 3,
   "id": "aee175ef",
   "metadata": {},
   "outputs": [
    {
     "ename": "ModuleNotFoundError",
     "evalue": "No module named 'spacy'",
     "output_type": "error",
     "traceback": [
      "\u001b[31m---------------------------------------------------------------------------\u001b[39m",
      "\u001b[31mModuleNotFoundError\u001b[39m                       Traceback (most recent call last)",
      "\u001b[36mCell\u001b[39m\u001b[36m \u001b[39m\u001b[32mIn[3]\u001b[39m\u001b[32m, line 5\u001b[39m\n\u001b[32m      1\u001b[39m \u001b[38;5;66;03m# Sentiment_Thematic.ipynb\u001b[39;00m\n\u001b[32m      2\u001b[39m \n\u001b[32m      3\u001b[39m \u001b[38;5;66;03m# Import your modular script\u001b[39;00m\n\u001b[32m      4\u001b[39m \u001b[38;5;28;01mimport\u001b[39;00m\u001b[38;5;250m \u001b[39m\u001b[34;01mos\u001b[39;00m\n\u001b[32m----> \u001b[39m\u001b[32m5\u001b[39m \u001b[38;5;28;01mfrom\u001b[39;00m\u001b[38;5;250m \u001b[39m\u001b[34;01mSentiment_Thematic\u001b[39;00m\u001b[38;5;250m \u001b[39m\u001b[38;5;28;01mimport\u001b[39;00m load_cleaned_data, sentiment_analysis, extract_keywords, assign_themes, save_data\n\u001b[32m      7\u001b[39m \u001b[38;5;66;03m# Step 1: Define paths to cleaned data files\u001b[39;00m\n\u001b[32m      8\u001b[39m cleaned_files = {\n\u001b[32m      9\u001b[39m     \u001b[33m'\u001b[39m\u001b[33mCBE\u001b[39m\u001b[33m'\u001b[39m: \u001b[33m'\u001b[39m\u001b[33m../data/CBE_cleaned.csv\u001b[39m\u001b[33m'\u001b[39m,\n\u001b[32m     10\u001b[39m     \u001b[33m'\u001b[39m\u001b[33mAwash\u001b[39m\u001b[33m'\u001b[39m: \u001b[33m'\u001b[39m\u001b[33m../data/Awash_cleaned.csv\u001b[39m\u001b[33m'\u001b[39m,\n\u001b[32m     11\u001b[39m     \u001b[33m'\u001b[39m\u001b[33mWegagen\u001b[39m\u001b[33m'\u001b[39m: \u001b[33m'\u001b[39m\u001b[33m../data/Wegagen_cleaned.csv\u001b[39m\u001b[33m'\u001b[39m\n\u001b[32m     12\u001b[39m }\n",
      "\u001b[36mFile \u001b[39m\u001b[32mc:\\Users\\HP\\Desktop\\10 acd\\week 2\\week-2\\notebooks\\../scripts\\Sentiment_Thematic.py:5\u001b[39m\n\u001b[32m      3\u001b[39m \u001b[38;5;28;01mimport\u001b[39;00m\u001b[38;5;250m \u001b[39m\u001b[34;01mos\u001b[39;00m\n\u001b[32m      4\u001b[39m \u001b[38;5;28;01mimport\u001b[39;00m\u001b[38;5;250m \u001b[39m\u001b[34;01mpandas\u001b[39;00m\u001b[38;5;250m \u001b[39m\u001b[38;5;28;01mas\u001b[39;00m\u001b[38;5;250m \u001b[39m\u001b[34;01mpd\u001b[39;00m\n\u001b[32m----> \u001b[39m\u001b[32m5\u001b[39m \u001b[38;5;28;01mimport\u001b[39;00m\u001b[38;5;250m \u001b[39m\u001b[34;01mspacy\u001b[39;00m\n\u001b[32m      6\u001b[39m \u001b[38;5;28;01mfrom\u001b[39;00m\u001b[38;5;250m \u001b[39m\u001b[34;01mtransformers\u001b[39;00m\u001b[38;5;250m \u001b[39m\u001b[38;5;28;01mimport\u001b[39;00m pipeline\n\u001b[32m      7\u001b[39m \u001b[38;5;28;01mfrom\u001b[39;00m\u001b[38;5;250m \u001b[39m\u001b[34;01msklearn\u001b[39;00m\u001b[34;01m.\u001b[39;00m\u001b[34;01mfeature_extraction\u001b[39;00m\u001b[34;01m.\u001b[39;00m\u001b[34;01mtext\u001b[39;00m\u001b[38;5;250m \u001b[39m\u001b[38;5;28;01mimport\u001b[39;00m TfidfVectorizer\n",
      "\u001b[31mModuleNotFoundError\u001b[39m: No module named 'spacy'"
     ]
    }
   ],
   "source": [
    "# Sentiment_Thematic.ipynb\n",
    "\n",
    "# Import your modular script\n",
    "import os\n",
    "from Sentiment_Thematic import load_cleaned_data, sentiment_analysis, extract_keywords, assign_themes, save_data\n",
    "\n",
    "# Step 1: Define paths to cleaned data files\n",
    "cleaned_files = {\n",
    "    'CBE': '../data/CBE_cleaned.csv',\n",
    "    'Awash': '../data/Awash_cleaned.csv',\n",
    "    'Wegagen': '../data/Wegagen_cleaned.csv'\n",
    "}\n",
    "\n",
    "# Step 2: Load cleaned data\n",
    "bank_dfs = load_cleaned_data(cleaned_files)\n",
    "\n",
    "# Step 3: Load sentiment model once (optional: import pipeline here if needed)\n",
    "\n",
    "# Step 4: Run sentiment analysis on each bank's data\n",
    "from transformers import pipeline\n",
    "sentiment_model = pipeline(\"sentiment-analysis\", model=\"distilbert-base-uncased-finetuned-sst-2-english\")\n",
    "\n",
    "for bank, df in bank_dfs.items():\n",
    "    print(f\"Running sentiment analysis for {bank}...\")\n",
    "    bank_dfs[bank] = sentiment_analysis(df, model=sentiment_model)\n",
    "\n",
    "# Step 5: Extract and display keywords per bank\n",
    "from Sentiment_Thematic import preprocess_text\n",
    "\n",
    "for bank, df in bank_dfs.items():\n",
    "    print(f\"\\nTop keywords for {bank}:\")\n",
    "    top_keywords = extract_keywords(df)\n",
    "    print([kw for kw, score in top_keywords])\n",
    "\n",
    "# Step 6: Define your theme keywords manually or based on domain knowledge\n",
    "theme_keywords = {\n",
    "    'Account Access Issues': ['login', 'password', 'account', 'access', 'reset'],\n",
    "    'Transaction Performance': ['transfer', 'slow', 'delay', 'payment', 'transaction'],\n",
    "    'User Interface & Experience': ['ui', 'app', 'interface', 'design', 'crash'],\n",
    "    'Customer Support': ['support', 'help', 'customer', 'service', 'response'],\n",
    "    'Feature Requests': ['feature', 'request', 'add', 'improve', 'update']\n",
    "}\n",
    "\n",
    "# Step 7: Assign themes to each review\n",
    "for bank, df in bank_dfs.items():\n",
    "    bank_dfs[bank] = assign_themes(df, theme_keywords)\n",
    "\n",
    "# Step 8: Save enriched data back to data folder\n",
    "output_dir = '../data'\n",
    "for bank, df in bank_dfs.items():\n",
    "    save_path = os.path.join(output_dir, f\"{bank}_task2_enriched.csv\")\n",
    "    save_data(df, save_path)\n"
   ]
  }
 ],
 "metadata": {
  "kernelspec": {
   "display_name": "week-2",
   "language": "python",
   "name": "python3"
  },
  "language_info": {
   "codemirror_mode": {
    "name": "ipython",
    "version": 3
   },
   "file_extension": ".py",
   "mimetype": "text/x-python",
   "name": "python",
   "nbconvert_exporter": "python",
   "pygments_lexer": "ipython3",
   "version": "3.11.9"
  }
 },
 "nbformat": 4,
 "nbformat_minor": 5
}
