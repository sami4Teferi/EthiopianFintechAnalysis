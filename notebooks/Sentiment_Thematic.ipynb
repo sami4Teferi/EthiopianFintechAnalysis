{
 "cells": [
  {
   "cell_type": "code",
   "execution_count": 28,
   "id": "f9174d46",
   "metadata": {},
   "outputs": [],
   "source": [
    "import sys\n",
    "import os\n",
    "import pandas as pd\n",
    "import matplotlib.pyplot as plt\n",
    "import seaborn as sns\n",
    "from IPython.display import display\n",
    "import spacy\n",
    "from transformers import pipeline\n",
    "\n",
    "sys.path.append('../scripts')"
   ]
  },
  {
   "cell_type": "code",
   "execution_count": 29,
   "id": "4e67072c",
   "metadata": {},
   "outputs": [],
   "source": [
    "from Sentiment_Thematic import load_cleaned_data, sentiment_analysis, extract_keywords, assign_themes, save_data\n"
   ]
  },
  {
   "cell_type": "code",
   "execution_count": 30,
   "id": "2d445e7f",
   "metadata": {},
   "outputs": [],
   "source": [
    "cleaned_files = {\n",
    "    'CBE': '../data/CBE_cleaned.csv',\n",
    "    'BOA': '../data/BOA_cleaned.csv',\n",
    "    'Dash': '../data/Dashen_cleaned.csv'\n",
    "}"
   ]
  },
  {
   "cell_type": "code",
   "execution_count": 31,
   "id": "f2f56ff1",
   "metadata": {},
   "outputs": [
    {
     "name": "stdout",
     "output_type": "stream",
     "text": [
      "Loaded CBE cleaned data: (3648, 6)\n",
      "Loaded BOA cleaned data: (889, 6)\n",
      "Loaded Dash cleaned data: (407, 6)\n",
      "\n",
      "--- Head of CBE dataset ---\n"
     ]
    },
    {
     "data": {
      "text/html": [
       "<div>\n",
       "<style scoped>\n",
       "    .dataframe tbody tr th:only-of-type {\n",
       "        vertical-align: middle;\n",
       "    }\n",
       "\n",
       "    .dataframe tbody tr th {\n",
       "        vertical-align: top;\n",
       "    }\n",
       "\n",
       "    .dataframe thead th {\n",
       "        text-align: right;\n",
       "    }\n",
       "</style>\n",
       "<table border=\"1\" class=\"dataframe\">\n",
       "  <thead>\n",
       "    <tr style=\"text-align: right;\">\n",
       "      <th></th>\n",
       "      <th>review_text</th>\n",
       "      <th>rating</th>\n",
       "      <th>date</th>\n",
       "      <th>bank_name</th>\n",
       "      <th>source</th>\n",
       "      <th>bank</th>\n",
       "    </tr>\n",
       "  </thead>\n",
       "  <tbody>\n",
       "    <tr>\n",
       "      <th>0</th>\n",
       "      <td>\"Why don’t your ATMs support account-to-accoun...</td>\n",
       "      <td>4</td>\n",
       "      <td>2025-06-06</td>\n",
       "      <td>CBE</td>\n",
       "      <td>Telegram</td>\n",
       "      <td>CBE</td>\n",
       "    </tr>\n",
       "    <tr>\n",
       "      <th>1</th>\n",
       "      <td>what is this app problem???</td>\n",
       "      <td>1</td>\n",
       "      <td>2025-06-05</td>\n",
       "      <td>CBE</td>\n",
       "      <td>Telegram</td>\n",
       "      <td>CBE</td>\n",
       "    </tr>\n",
       "    <tr>\n",
       "      <th>2</th>\n",
       "      <td>the app is proactive and a good connections.</td>\n",
       "      <td>5</td>\n",
       "      <td>2025-06-05</td>\n",
       "      <td>CBE</td>\n",
       "      <td>Telegram</td>\n",
       "      <td>CBE</td>\n",
       "    </tr>\n",
       "  </tbody>\n",
       "</table>\n",
       "</div>"
      ],
      "text/plain": [
       "                                         review_text  rating        date  \\\n",
       "0  \"Why don’t your ATMs support account-to-accoun...       4  2025-06-06   \n",
       "1                        what is this app problem???       1  2025-06-05   \n",
       "2       the app is proactive and a good connections.       5  2025-06-05   \n",
       "\n",
       "  bank_name    source bank  \n",
       "0       CBE  Telegram  CBE  \n",
       "1       CBE  Telegram  CBE  \n",
       "2       CBE  Telegram  CBE  "
      ]
     },
     "metadata": {},
     "output_type": "display_data"
    },
    {
     "name": "stdout",
     "output_type": "stream",
     "text": [
      "\n",
      "--- Head of BOA dataset ---\n"
     ]
    },
    {
     "data": {
      "text/html": [
       "<div>\n",
       "<style scoped>\n",
       "    .dataframe tbody tr th:only-of-type {\n",
       "        vertical-align: middle;\n",
       "    }\n",
       "\n",
       "    .dataframe tbody tr th {\n",
       "        vertical-align: top;\n",
       "    }\n",
       "\n",
       "    .dataframe thead th {\n",
       "        text-align: right;\n",
       "    }\n",
       "</style>\n",
       "<table border=\"1\" class=\"dataframe\">\n",
       "  <thead>\n",
       "    <tr style=\"text-align: right;\">\n",
       "      <th></th>\n",
       "      <th>review_text</th>\n",
       "      <th>rating</th>\n",
       "      <th>date</th>\n",
       "      <th>bank_name</th>\n",
       "      <th>source</th>\n",
       "      <th>bank</th>\n",
       "    </tr>\n",
       "  </thead>\n",
       "  <tbody>\n",
       "    <tr>\n",
       "      <th>0</th>\n",
       "      <td>it's not working</td>\n",
       "      <td>3</td>\n",
       "      <td>2025-06-05</td>\n",
       "      <td>BOA</td>\n",
       "      <td>Telegram</td>\n",
       "      <td>BOA</td>\n",
       "    </tr>\n",
       "    <tr>\n",
       "      <th>1</th>\n",
       "      <td>Hello, I’m facing a problem with the BOA Mobil...</td>\n",
       "      <td>1</td>\n",
       "      <td>2025-06-03</td>\n",
       "      <td>BOA</td>\n",
       "      <td>Telegram</td>\n",
       "      <td>BOA</td>\n",
       "    </tr>\n",
       "    <tr>\n",
       "      <th>2</th>\n",
       "      <td>exceptional</td>\n",
       "      <td>5</td>\n",
       "      <td>2025-06-03</td>\n",
       "      <td>BOA</td>\n",
       "      <td>Telegram</td>\n",
       "      <td>BOA</td>\n",
       "    </tr>\n",
       "  </tbody>\n",
       "</table>\n",
       "</div>"
      ],
      "text/plain": [
       "                                         review_text  rating        date  \\\n",
       "0                                   it's not working       3  2025-06-05   \n",
       "1  Hello, I’m facing a problem with the BOA Mobil...       1  2025-06-03   \n",
       "2                                        exceptional       5  2025-06-03   \n",
       "\n",
       "  bank_name    source bank  \n",
       "0       BOA  Telegram  BOA  \n",
       "1       BOA  Telegram  BOA  \n",
       "2       BOA  Telegram  BOA  "
      ]
     },
     "metadata": {},
     "output_type": "display_data"
    },
    {
     "name": "stdout",
     "output_type": "stream",
     "text": [
      "\n",
      "--- Head of Dash dataset ---\n"
     ]
    },
    {
     "data": {
      "text/html": [
       "<div>\n",
       "<style scoped>\n",
       "    .dataframe tbody tr th:only-of-type {\n",
       "        vertical-align: middle;\n",
       "    }\n",
       "\n",
       "    .dataframe tbody tr th {\n",
       "        vertical-align: top;\n",
       "    }\n",
       "\n",
       "    .dataframe thead th {\n",
       "        text-align: right;\n",
       "    }\n",
       "</style>\n",
       "<table border=\"1\" class=\"dataframe\">\n",
       "  <thead>\n",
       "    <tr style=\"text-align: right;\">\n",
       "      <th></th>\n",
       "      <th>review_text</th>\n",
       "      <th>rating</th>\n",
       "      <th>date</th>\n",
       "      <th>bank_name</th>\n",
       "      <th>source</th>\n",
       "      <th>bank</th>\n",
       "    </tr>\n",
       "  </thead>\n",
       "  <tbody>\n",
       "    <tr>\n",
       "      <th>0</th>\n",
       "      <td>love</td>\n",
       "      <td>3</td>\n",
       "      <td>2025-06-06</td>\n",
       "      <td>Dashen</td>\n",
       "      <td>Telegram</td>\n",
       "      <td>Dashen</td>\n",
       "    </tr>\n",
       "    <tr>\n",
       "      <th>1</th>\n",
       "      <td>መቸሸጠ</td>\n",
       "      <td>5</td>\n",
       "      <td>2025-06-03</td>\n",
       "      <td>Dashen</td>\n",
       "      <td>Telegram</td>\n",
       "      <td>Dashen</td>\n",
       "    </tr>\n",
       "    <tr>\n",
       "      <th>2</th>\n",
       "      <td>wow</td>\n",
       "      <td>5</td>\n",
       "      <td>2025-06-03</td>\n",
       "      <td>Dashen</td>\n",
       "      <td>Telegram</td>\n",
       "      <td>Dashen</td>\n",
       "    </tr>\n",
       "  </tbody>\n",
       "</table>\n",
       "</div>"
      ],
      "text/plain": [
       "  review_text  rating        date bank_name    source    bank\n",
       "0        love       3  2025-06-06    Dashen  Telegram  Dashen\n",
       "1        መቸሸጠ       5  2025-06-03    Dashen  Telegram  Dashen\n",
       "2         wow       5  2025-06-03    Dashen  Telegram  Dashen"
      ]
     },
     "metadata": {},
     "output_type": "display_data"
    }
   ],
   "source": [
    "bank_dfs = load_cleaned_data(cleaned_files)\n",
    "for bank, df in bank_dfs.items():\n",
    "    print(f\"\\n--- Head of {bank} dataset ---\")\n",
    "    display(df.head(3))"
   ]
  },
  {
   "cell_type": "code",
   "execution_count": 32,
   "id": "dd5fa6b2",
   "metadata": {},
   "outputs": [
    {
     "name": "stderr",
     "output_type": "stream",
     "text": [
      "Device set to use cpu\n"
     ]
    }
   ],
   "source": [
    "sentiment_model = pipeline(\"sentiment-analysis\", model=\"distilbert-base-uncased-finetuned-sst-2-english\", device=-1)  # device=-1 forces CPU\n"
   ]
  },
  {
   "cell_type": "code",
   "execution_count": 33,
   "id": "4bad87ff",
   "metadata": {},
   "outputs": [
    {
     "name": "stdout",
     "output_type": "stream",
     "text": [
      "Running sentiment analysis for CBE...\n",
      "Running sentiment analysis for BOA...\n",
      "Running sentiment analysis for Dash...\n"
     ]
    }
   ],
   "source": [
    "for bank, df in bank_dfs.items():\n",
    "    print(f\"Running sentiment analysis for {bank}...\")\n",
    "    bank_dfs[bank] = sentiment_analysis(df, model=sentiment_model)"
   ]
  },
  {
   "cell_type": "code",
   "execution_count": 34,
   "id": "f6a5b3c4",
   "metadata": {},
   "outputs": [
    {
     "name": "stdout",
     "output_type": "stream",
     "text": [
      "\n",
      "Top keywords for CBE:\n",
      "['good', 'app', 'good app', 'work', 'nice', 'use', 'bank', 'easy', 'application', 'cbe', 'like', 'fast', 'update', 'thank', 'transaction', 'service', 'time', 'banking', 'great', 'bad']\n",
      "\n",
      "Top keywords for BOA:\n",
      "['app', 'good', 'work', 'bad', 'bank', 'good app', 'boa', 'update', 'mobile', 'banking', 'crash', 'like', 'nice', 'time', 'use', 'bad app', 'application', 'slow', 'open', 'well']\n",
      "\n",
      "Top keywords for Dash:\n",
      "['app', 'good', 'dashen', 'bank', 'super', 'good app', 'fast', 'amazing', 'easy', 'banking', 'use', 'dashen bank', 'super app', 'wow', 'application', 'nice', 'work', 'feature', 'step', 'great']\n"
     ]
    }
   ],
   "source": [
    "for bank, df in bank_dfs.items():\n",
    "    print(f\"\\nTop keywords for {bank}:\")\n",
    "    top_keywords = extract_keywords(df)\n",
    "    print([kw for kw, score in top_keywords])"
   ]
  },
  {
   "cell_type": "code",
   "execution_count": 35,
   "id": "597e3580",
   "metadata": {},
   "outputs": [],
   "source": [
    "themes = {\n",
    "    \"App Usability & Interface\": [\"good\", \"nice\", \"easy\", \"design\", \"ui\", \"super\", \"feature\"],\n",
    "    \"App Performance & Reliability\": [\"crash\", \"slow\", \"bug\", \"error\", \"update\", \"hang\"],\n",
    "    \"Banking Services\": [\"transaction\", \"transfer\", \"account\", \"balance\", \"loan\", \"deposit\"],\n",
    "    \"Customer Support\": [\"help\", \"support\", \"response\", \"call\", \"agent\", \"service\"],\n",
    "    \"Access Issues\": [\"login\", \"open\", \"register\", \"password\", \"access\"]\n",
    "}"
   ]
  },
  {
   "cell_type": "code",
   "execution_count": 36,
   "id": "8262fd86",
   "metadata": {},
   "outputs": [],
   "source": [
    "def assign_themes(text, themes):\n",
    "    assigned = []\n",
    "    for theme, keywords in themes.items():\n",
    "        if any(kw in text.lower() for kw in keywords):\n",
    "            assigned.append(theme)\n",
    "    return assigned if assigned else [\"Other\"]\n",
    "\n",
    "for bank, df in bank_dfs.items():\n",
    "    df[\"identified_themes\"] = df[\"review_text\"].apply(lambda x: assign_themes(x, themes))"
   ]
  },
  {
   "cell_type": "code",
   "execution_count": 37,
   "id": "fc04155d",
   "metadata": {},
   "outputs": [
    {
     "name": "stdout",
     "output_type": "stream",
     "text": [
      "\n",
      "Theme distribution for CBE:\n",
      "identified_themes              sentiment_label\n",
      "Access Issues                  NEGATIVE             84\n",
      "                               POSITIVE             29\n",
      "App Performance & Reliability  NEGATIVE            252\n",
      "                               POSITIVE             54\n",
      "App Usability & Interface      POSITIVE            700\n",
      "                               NEGATIVE            197\n",
      "Banking Services               NEGATIVE            319\n",
      "                               POSITIVE             93\n",
      "Customer Support               POSITIVE            133\n",
      "                               NEGATIVE            105\n",
      "Other                          POSITIVE           1193\n",
      "                               NEGATIVE            928\n",
      "Name: count, dtype: int64\n",
      "\n",
      "Theme distribution for BOA:\n",
      "identified_themes              sentiment_label\n",
      "Access Issues                  NEGATIVE            61\n",
      "                               POSITIVE             8\n",
      "App Performance & Reliability  NEGATIVE           152\n",
      "                               POSITIVE            10\n",
      "App Usability & Interface      POSITIVE           100\n",
      "                               NEGATIVE            60\n",
      "Banking Services               NEGATIVE            60\n",
      "                               POSITIVE             7\n",
      "Customer Support               NEGATIVE            34\n",
      "                               POSITIVE            19\n",
      "Other                          NEGATIVE           331\n",
      "                               POSITIVE           191\n",
      "Name: count, dtype: int64\n",
      "\n",
      "Theme distribution for Dash:\n",
      "identified_themes              sentiment_label\n",
      "Access Issues                  POSITIVE             8\n",
      "                               NEGATIVE             3\n",
      "App Performance & Reliability  POSITIVE            22\n",
      "                               NEGATIVE            19\n",
      "App Usability & Interface      POSITIVE           135\n",
      "                               NEGATIVE            25\n",
      "Banking Services               POSITIVE            33\n",
      "                               NEGATIVE            17\n",
      "Customer Support               POSITIVE            26\n",
      "                               NEGATIVE             4\n",
      "Other                          POSITIVE           149\n",
      "                               NEGATIVE            56\n",
      "Name: count, dtype: int64\n"
     ]
    }
   ],
   "source": [
    "for bank, df in bank_dfs.items():\n",
    "    print(f\"\\nTheme distribution for {bank}:\")\n",
    "    theme_dist = df.explode(\"identified_themes\").groupby(\"identified_themes\")[\"sentiment_label\"].value_counts()\n",
    "    print(theme_dist)"
   ]
  },
  {
   "cell_type": "code",
   "execution_count": 38,
   "id": "ceb5cf1b",
   "metadata": {},
   "outputs": [],
   "source": [
    "nlp = spacy.load(\"en_core_web_sm\")"
   ]
  },
  {
   "cell_type": "code",
   "execution_count": 39,
   "id": "b7ca75b1",
   "metadata": {},
   "outputs": [],
   "source": [
    "def preprocess_text(text):\n",
    "    doc = nlp(text.lower())\n",
    "    tokens = [token.lemma_ for token in doc if not token.is_stop and token.is_alpha]\n",
    "    return \" \".join(tokens)\n",
    "\n",
    "# Example: preprocess for CBE dataset (you can do for others similarly)\n",
    "df = bank_dfs['CBE']  # just working on CBE here, you can loop for others too\n",
    "df[\"processed_review\"] = df[\"review_text\"].apply(preprocess_text)"
   ]
  },
  {
   "cell_type": "code",
   "execution_count": 40,
   "id": "ccb98ce5",
   "metadata": {},
   "outputs": [
    {
     "name": "stderr",
     "output_type": "stream",
     "text": [
      "C:\\Users\\HP\\AppData\\Local\\Temp\\ipykernel_11364\\1160358462.py:2: FutureWarning: \n",
      "\n",
      "Passing `palette` without assigning `hue` is deprecated and will be removed in v0.14.0. Assign the `x` variable to `hue` and set `legend=False` for the same effect.\n",
      "\n",
      "  sns.boxplot(data=df, x=\"rating\", y=\"sentiment_score\", palette=\"viridis\")\n"
     ]
    },
    {
     "data": {
      "image/png": "[encoded data removed]",
      "text/plain": [
       "<Figure size 800x500 with 1 Axes>"
      ]
     },
     "metadata": {},
     "output_type": "display_data"
    }
   ],
   "source": [
    "plt.figure(figsize=(8,5))\n",
    "sns.boxplot(data=df, x=\"rating\", y=\"sentiment_score\", palette=\"viridis\")\n",
    "plt.title(\"Sentiment Score Distribution by Rating (CBE)\")\n",
    "plt.xlabel(\"Rating\")\n",
    "plt.ylabel(\"Sentiment Score\")\n",
    "plt.show()"
   ]
  },
  {
   "cell_type": "code",
   "execution_count": 41,
   "id": "d8db6a24",
   "metadata": {},
   "outputs": [
    {
     "name": "stdout",
     "output_type": "stream",
     "text": [
      "   rating      mean  count\n",
      "0       1  0.977643    666\n",
      "1       2  0.964669    182\n",
      "2       3  0.959157    242\n",
      "3       4  0.956689    335\n",
      "4       5  0.959409   2223\n"
     ]
    },
    {
     "name": "stderr",
     "output_type": "stream",
     "text": [
      "C:\\Users\\HP\\AppData\\Local\\Temp\\ipykernel_11364\\3002416799.py:6: FutureWarning: \n",
      "\n",
      "Passing `palette` without assigning `hue` is deprecated and will be removed in v0.14.0. Assign the `x` variable to `hue` and set `legend=False` for the same effect.\n",
      "\n",
      "  sns.barplot(data=rating_sentiment, x=\"rating\", y=\"mean\", palette=\"coolwarm\")\n"
     ]
    },
    {
     "data": {
      "image/png": "[encoded data removed]",
      "text/plain": [
       "<Figure size 800x500 with 1 Axes>"
      ]
     },
     "metadata": {},
     "output_type": "display_data"
    }
   ],
   "source": [
    "rating_sentiment = df.groupby(\"rating\")[\"sentiment_score\"].agg(['mean', 'count']).reset_index()\n",
    "print(rating_sentiment)\n",
    "\n",
    "# Step 13: Barplot of average sentiment score by rating\n",
    "plt.figure(figsize=(8,5))\n",
    "sns.barplot(data=rating_sentiment, x=\"rating\", y=\"mean\", palette=\"coolwarm\")\n",
    "plt.title(\"Average Sentiment Score by Rating (CBE)\")\n",
    "plt.xlabel(\"Rating\")\n",
    "plt.ylabel(\"Average Sentiment Score\")\n",
    "plt.ylim(0, 1)  # Adjust if sentiment score range differs\n",
    "plt.grid(axis='y', linestyle='--', alpha=0.7)\n",
    "plt.show()"
   ]
  }
 ],
 "metadata": {
  "kernelspec": {
   "display_name": "week-2",
   "language": "python",
   "name": "python3"
  },
  "language_info": {
   "codemirror_mode": {
    "name": "ipython",
    "version": 3
   },
   "file_extension": ".py",
   "mimetype": "text/x-python",
   "name": "python",
   "nbconvert_exporter": "python",
   "pygments_lexer": "ipython3",
   "version": "3.11.9"
  }
 },
 "nbformat": 4,
 "nbformat_minor": 5
}
