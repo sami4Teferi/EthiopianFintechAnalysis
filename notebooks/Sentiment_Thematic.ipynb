{
 "cells": [
  {
   "cell_type": "code",
   "execution_count": 23,
   "id": "f9174d46",
   "metadata": {},
   "outputs": [],
   "source": [
    "import sys\n",
    "import os\n",
    "import pandas as pd\n",
    "import matplotlib.pyplot as plt\n",
    "import seaborn as sns\n",
    "from IPython.display import display\n",
    "import spacy\n",
    "from transformers import pipeline\n",
    "\n",
    "sys.path.append('../scripts')"
   ]
  },
  {
   "cell_type": "code",
   "execution_count": null,
   "id": "4e67072c",
   "metadata": {},
   "outputs": [],
   "source": [
    "\n",
    "from Sentiment_Thematic import load_cleaned_data, sentiment_analysis, extract_keywords, preprocess_text, assign_themes, save_data\n"
   ]
  },
  {
   "cell_type": "code",
   "execution_count": 3,
   "id": "2d445e7f",
   "metadata": {},
   "outputs": [
    {
     "name": "stdout",
     "output_type": "stream",
     "text": [
      "Loaded CBE cleaned data: (3648, 6)\n",
      "Loaded BOA cleaned data: (889, 6)\n",
      "Loaded Dash cleaned data: (407, 6)\n"
     ]
    }
   ],
   "source": [
    "# Step 1: Define paths to cleaned data files\n",
    "cleaned_files = {\n",
    "    'CBE': '../data/CBE_cleaned.csv',\n",
    "    'BOA': '../data/BOA_cleaned.csv',\n",
    "    'Dash': '../data/Dashen_cleaned.csv'\n",
    "}\n",
    "\n",
    "# Step 2: Load cleaned data\n",
    "bank_dfs = load_cleaned_data(cleaned_files)"
   ]
  },
  {
   "cell_type": "code",
   "execution_count": 4,
   "id": "f2f56ff1",
   "metadata": {},
   "outputs": [
    {
     "name": "stdout",
     "output_type": "stream",
     "text": [
      "\n",
      "--- Head of CBE dataset ---\n"
     ]
    },
    {
     "data": {
      "text/html": [
       "<div>\n",
       "<style scoped>\n",
       "    .dataframe tbody tr th:only-of-type {\n",
       "        vertical-align: middle;\n",
       "    }\n",
       "\n",
       "    .dataframe tbody tr th {\n",
       "        vertical-align: top;\n",
       "    }\n",
       "\n",
       "    .dataframe thead th {\n",
       "        text-align: right;\n",
       "    }\n",
       "</style>\n",
       "<table border=\"1\" class=\"dataframe\">\n",
       "  <thead>\n",
       "    <tr style=\"text-align: right;\">\n",
       "      <th></th>\n",
       "      <th>review_text</th>\n",
       "      <th>rating</th>\n",
       "      <th>date</th>\n",
       "      <th>bank_name</th>\n",
       "      <th>source</th>\n",
       "      <th>bank</th>\n",
       "    </tr>\n",
       "  </thead>\n",
       "  <tbody>\n",
       "    <tr>\n",
       "      <th>0</th>\n",
       "      <td>\"Why don’t your ATMs support account-to-accoun...</td>\n",
       "      <td>4</td>\n",
       "      <td>2025-06-06</td>\n",
       "      <td>CBE</td>\n",
       "      <td>Telegram</td>\n",
       "      <td>CBE</td>\n",
       "    </tr>\n",
       "    <tr>\n",
       "      <th>1</th>\n",
       "      <td>what is this app problem???</td>\n",
       "      <td>1</td>\n",
       "      <td>2025-06-05</td>\n",
       "      <td>CBE</td>\n",
       "      <td>Telegram</td>\n",
       "      <td>CBE</td>\n",
       "    </tr>\n",
       "    <tr>\n",
       "      <th>2</th>\n",
       "      <td>the app is proactive and a good connections.</td>\n",
       "      <td>5</td>\n",
       "      <td>2025-06-05</td>\n",
       "      <td>CBE</td>\n",
       "      <td>Telegram</td>\n",
       "      <td>CBE</td>\n",
       "    </tr>\n",
       "  </tbody>\n",
       "</table>\n",
       "</div>"
      ],
      "text/plain": [
       "                                         review_text  rating        date  \\\n",
       "0  \"Why don’t your ATMs support account-to-accoun...       4  2025-06-06   \n",
       "1                        what is this app problem???       1  2025-06-05   \n",
       "2       the app is proactive and a good connections.       5  2025-06-05   \n",
       "\n",
       "  bank_name    source bank  \n",
       "0       CBE  Telegram  CBE  \n",
       "1       CBE  Telegram  CBE  \n",
       "2       CBE  Telegram  CBE  "
      ]
     },
     "metadata": {},
     "output_type": "display_data"
    },
    {
     "name": "stdout",
     "output_type": "stream",
     "text": [
      "\n",
      "--- Head of BOA dataset ---\n"
     ]
    },
    {
     "data": {
      "text/html": [
       "<div>\n",
       "<style scoped>\n",
       "    .dataframe tbody tr th:only-of-type {\n",
       "        vertical-align: middle;\n",
       "    }\n",
       "\n",
       "    .dataframe tbody tr th {\n",
       "        vertical-align: top;\n",
       "    }\n",
       "\n",
       "    .dataframe thead th {\n",
       "        text-align: right;\n",
       "    }\n",
       "</style>\n",
       "<table border=\"1\" class=\"dataframe\">\n",
       "  <thead>\n",
       "    <tr style=\"text-align: right;\">\n",
       "      <th></th>\n",
       "      <th>review_text</th>\n",
       "      <th>rating</th>\n",
       "      <th>date</th>\n",
       "      <th>bank_name</th>\n",
       "      <th>source</th>\n",
       "      <th>bank</th>\n",
       "    </tr>\n",
       "  </thead>\n",
       "  <tbody>\n",
       "    <tr>\n",
       "      <th>0</th>\n",
       "      <td>it's not working</td>\n",
       "      <td>3</td>\n",
       "      <td>2025-06-05</td>\n",
       "      <td>BOA</td>\n",
       "      <td>Telegram</td>\n",
       "      <td>BOA</td>\n",
       "    </tr>\n",
       "    <tr>\n",
       "      <th>1</th>\n",
       "      <td>Hello, I’m facing a problem with the BOA Mobil...</td>\n",
       "      <td>1</td>\n",
       "      <td>2025-06-03</td>\n",
       "      <td>BOA</td>\n",
       "      <td>Telegram</td>\n",
       "      <td>BOA</td>\n",
       "    </tr>\n",
       "    <tr>\n",
       "      <th>2</th>\n",
       "      <td>exceptional</td>\n",
       "      <td>5</td>\n",
       "      <td>2025-06-03</td>\n",
       "      <td>BOA</td>\n",
       "      <td>Telegram</td>\n",
       "      <td>BOA</td>\n",
       "    </tr>\n",
       "  </tbody>\n",
       "</table>\n",
       "</div>"
      ],
      "text/plain": [
       "                                         review_text  rating        date  \\\n",
       "0                                   it's not working       3  2025-06-05   \n",
       "1  Hello, I’m facing a problem with the BOA Mobil...       1  2025-06-03   \n",
       "2                                        exceptional       5  2025-06-03   \n",
       "\n",
       "  bank_name    source bank  \n",
       "0       BOA  Telegram  BOA  \n",
       "1       BOA  Telegram  BOA  \n",
       "2       BOA  Telegram  BOA  "
      ]
     },
     "metadata": {},
     "output_type": "display_data"
    },
    {
     "name": "stdout",
     "output_type": "stream",
     "text": [
      "\n",
      "--- Head of Dash dataset ---\n"
     ]
    },
    {
     "data": {
      "text/html": [
       "<div>\n",
       "<style scoped>\n",
       "    .dataframe tbody tr th:only-of-type {\n",
       "        vertical-align: middle;\n",
       "    }\n",
       "\n",
       "    .dataframe tbody tr th {\n",
       "        vertical-align: top;\n",
       "    }\n",
       "\n",
       "    .dataframe thead th {\n",
       "        text-align: right;\n",
       "    }\n",
       "</style>\n",
       "<table border=\"1\" class=\"dataframe\">\n",
       "  <thead>\n",
       "    <tr style=\"text-align: right;\">\n",
       "      <th></th>\n",
       "      <th>review_text</th>\n",
       "      <th>rating</th>\n",
       "      <th>date</th>\n",
       "      <th>bank_name</th>\n",
       "      <th>source</th>\n",
       "      <th>bank</th>\n",
       "    </tr>\n",
       "  </thead>\n",
       "  <tbody>\n",
       "    <tr>\n",
       "      <th>0</th>\n",
       "      <td>love</td>\n",
       "      <td>3</td>\n",
       "      <td>2025-06-06</td>\n",
       "      <td>Dashen</td>\n",
       "      <td>Telegram</td>\n",
       "      <td>Dashen</td>\n",
       "    </tr>\n",
       "    <tr>\n",
       "      <th>1</th>\n",
       "      <td>መቸሸጠ</td>\n",
       "      <td>5</td>\n",
       "      <td>2025-06-03</td>\n",
       "      <td>Dashen</td>\n",
       "      <td>Telegram</td>\n",
       "      <td>Dashen</td>\n",
       "    </tr>\n",
       "    <tr>\n",
       "      <th>2</th>\n",
       "      <td>wow</td>\n",
       "      <td>5</td>\n",
       "      <td>2025-06-03</td>\n",
       "      <td>Dashen</td>\n",
       "      <td>Telegram</td>\n",
       "      <td>Dashen</td>\n",
       "    </tr>\n",
       "  </tbody>\n",
       "</table>\n",
       "</div>"
      ],
      "text/plain": [
       "  review_text  rating        date bank_name    source    bank\n",
       "0        love       3  2025-06-06    Dashen  Telegram  Dashen\n",
       "1        መቸሸጠ       5  2025-06-03    Dashen  Telegram  Dashen\n",
       "2         wow       5  2025-06-03    Dashen  Telegram  Dashen"
      ]
     },
     "metadata": {},
     "output_type": "display_data"
    }
   ],
   "source": [
    "\n",
    "\n",
    "for bank, df in bank_dfs.items():\n",
    "    print(f\"\\n--- Head of {bank} dataset ---\")\n",
    "    display(df.head(3))\n"
   ]
  },
  {
   "cell_type": "code",
   "execution_count": 5,
   "id": "b7ca75b1",
   "metadata": {},
   "outputs": [
    {
     "name": "stderr",
     "output_type": "stream",
     "text": [
      "Xet Storage is enabled for this repo, but the 'hf_xet' package is not installed. Falling back to regular HTTP download. For better performance, install the package with: `pip install huggingface_hub[hf_xet]` or `pip install hf_xet`\n",
      "c:\\Users\\HP\\Desktop\\10 acd\\week 2\\week-2\\week-2\\Lib\\site-packages\\huggingface_hub\\file_download.py:143: UserWarning: `huggingface_hub` cache-system uses symlinks by default to efficiently store duplicated files but your machine does not support them in C:\\Users\\HP\\.cache\\huggingface\\hub\\models--distilbert-base-uncased-finetuned-sst-2-english. Caching files will still work but in a degraded version that might require more space on your disk. This warning can be disabled by setting the `HF_HUB_DISABLE_SYMLINKS_WARNING` environment variable. For more details, see https://huggingface.co/docs/huggingface_hub/how-to-cache#limitations.\n",
      "To support symlinks on Windows, you either need to activate Developer Mode or to run Python as an administrator. In order to activate developer mode, see this article: https://docs.microsoft.com/en-us/windows/apps/get-started/enable-your-device-for-development\n",
      "  warnings.warn(message)\n",
      "Device set to use cpu\n"
     ]
    },
    {
     "name": "stdout",
     "output_type": "stream",
     "text": [
      "Running sentiment analysis for CBE...\n",
      "Running sentiment analysis for BOA...\n",
      "Running sentiment analysis for Dash...\n"
     ]
    }
   ],
   "source": [
    "\n",
    "\n",
    "sentiment_model = pipeline(\"sentiment-analysis\", model=\"distilbert-base-uncased-finetuned-sst-2-english\")\n",
    "\n",
    "for bank, df in bank_dfs.items():\n",
    "    print(f\"Running sentiment analysis for {bank}...\")\n",
    "    bank_dfs[bank] = sentiment_analysis(df, model=sentiment_model)"
   ]
  },
  {
   "cell_type": "code",
   "execution_count": 7,
   "id": "d8db6a24",
   "metadata": {},
   "outputs": [
    {
     "name": "stdout",
     "output_type": "stream",
     "text": [
      "\n",
      "Top keywords for CBE:\n",
      "['good', 'app', 'good app', 'work', 'nice', 'use', 'bank', 'easy', 'application', 'cbe', 'like', 'fast', 'update', 'thank', 'transaction', 'service', 'time', 'banking', 'great', 'bad']\n",
      "\n",
      "Top keywords for BOA:\n",
      "['app', 'good', 'work', 'bad', 'bank', 'good app', 'boa', 'update', 'mobile', 'banking', 'crash', 'like', 'nice', 'time', 'use', 'bad app', 'application', 'slow', 'open', 'well']\n",
      "\n",
      "Top keywords for Dash:\n",
      "['app', 'good', 'dashen', 'bank', 'super', 'good app', 'fast', 'amazing', 'easy', 'banking', 'use', 'dashen bank', 'super app', 'wow', 'application', 'nice', 'work', 'feature', 'step', 'great']\n"
     ]
    }
   ],
   "source": [
    "#  Extract and display keywords per bank\n",
    "\n",
    "\n",
    "for bank, df in bank_dfs.items():\n",
    "    print(f\"\\nTop keywords for {bank}:\")\n",
    "    top_keywords = extract_keywords(df)\n",
    "    print([kw for kw, score in top_keywords])"
   ]
  },
  {
   "cell_type": "code",
   "execution_count": 8,
   "id": "d264562b",
   "metadata": {},
   "outputs": [],
   "source": [
    "themes = {\n",
    "    \"App Usability & Interface\": [\"good\", \"nice\", \"easy\", \"design\", \"UI\", \"super\", \"feature\"],\n",
    "    \"App Performance & Reliability\": [\"crash\", \"slow\", \"bug\", \"error\", \"update\", \"hang\"],\n",
    "    \"Banking Services\": [\"transaction\", \"transfer\", \"account\", \"balance\", \"loan\", \"deposit\"],\n",
    "    \"Customer Support\": [\"help\", \"support\", \"response\", \"call\", \"agent\", \"service\"],\n",
    "    \"Access Issues\": [\"login\", \"open\", \"register\", \"password\", \"access\"]\n",
    "}\n"
   ]
  },
  {
   "cell_type": "code",
   "execution_count": 10,
   "id": "85cd759e",
   "metadata": {},
   "outputs": [],
   "source": [
    "def assign_themes(text, themes):\n",
    "    assigned = []\n",
    "    for theme, keywords in themes.items():\n",
    "        if any(kw in text.lower() for kw in keywords):\n",
    "            assigned.append(theme)\n",
    "    return assigned if assigned else [\"Other\"]\n",
    "for bank, df in bank_dfs.items():\n",
    "    df[\"identified_themes\"] = df[\"review_text\"].apply(lambda x: assign_themes(x, themes))\n"
   ]
  },
  {
   "cell_type": "code",
   "execution_count": 11,
   "id": "80552776",
   "metadata": {},
   "outputs": [
    {
     "name": "stdout",
     "output_type": "stream",
     "text": [
      "\n",
      "Theme distribution for CBE:\n",
      "identified_themes              sentiment_label\n",
      "Access Issues                  NEGATIVE             84\n",
      "                               POSITIVE             29\n",
      "App Performance & Reliability  NEGATIVE            252\n",
      "                               POSITIVE             54\n",
      "App Usability & Interface      POSITIVE            690\n",
      "                               NEGATIVE            168\n",
      "Banking Services               NEGATIVE            319\n",
      "                               POSITIVE             93\n",
      "Customer Support               POSITIVE            133\n",
      "                               NEGATIVE            105\n",
      "Other                          POSITIVE           1200\n",
      "                               NEGATIVE            934\n",
      "Name: count, dtype: int64\n",
      "\n",
      "Theme distribution for BOA:\n",
      "identified_themes              sentiment_label\n",
      "Access Issues                  NEGATIVE            61\n",
      "                               POSITIVE             8\n",
      "App Performance & Reliability  NEGATIVE           152\n",
      "                               POSITIVE            10\n",
      "App Usability & Interface      POSITIVE            97\n",
      "                               NEGATIVE            50\n",
      "Banking Services               NEGATIVE            60\n",
      "                               POSITIVE             7\n",
      "Customer Support               NEGATIVE            34\n",
      "                               POSITIVE            19\n",
      "Other                          NEGATIVE           333\n",
      "                               POSITIVE           194\n",
      "Name: count, dtype: int64\n",
      "\n",
      "Theme distribution for Dash:\n",
      "identified_themes              sentiment_label\n",
      "Access Issues                  POSITIVE             8\n",
      "                               NEGATIVE             3\n",
      "App Performance & Reliability  POSITIVE            22\n",
      "                               NEGATIVE            19\n",
      "App Usability & Interface      POSITIVE           133\n",
      "                               NEGATIVE            25\n",
      "Banking Services               POSITIVE            33\n",
      "                               NEGATIVE            17\n",
      "Customer Support               POSITIVE            26\n",
      "                               NEGATIVE             4\n",
      "Other                          POSITIVE           149\n",
      "                               NEGATIVE            56\n",
      "Name: count, dtype: int64\n"
     ]
    }
   ],
   "source": [
    "for bank, df in bank_dfs.items():\n",
    "    print(f\"\\nTheme distribution for {bank}:\")\n",
    "    print(df.explode(\"identified_themes\").groupby(\"identified_themes\")[\"sentiment_label\"].value_counts())\n"
   ]
  },
  {
   "cell_type": "code",
   "execution_count": 15,
   "id": "aee175ef",
   "metadata": {},
   "outputs": [],
   "source": [
    "nlp = spacy.load(\"en_core_web_sm\")\n",
    "\n",
    "def preprocess_text(text):\n",
    "    doc = nlp(text.lower())\n",
    "    tokens = [token.lemma_ for token in doc if not token.is_stop and token.is_alpha]\n",
    "    return \" \".join(tokens)\n",
    "df[\"processed_review\"] = df[\"review_text\"].apply(preprocess_text)\n"
   ]
  },
  {
   "cell_type": "code",
   "execution_count": 24,
   "id": "21e8b47d",
   "metadata": {},
   "outputs": [
    {
     "data": {
      "image/png": "[encoded data removed]",
      "text/plain": [
       "<Figure size 640x480 with 1 Axes>"
      ]
     },
     "metadata": {},
     "output_type": "display_data"
    }
   ],
   "source": [
    "\n",
    "\n",
    "sns.boxplot(data=df, x=\"rating\", y=\"sentiment_score\")\n",
    "plt.title(\"Sentiment Score Distribution by Rating\")\n",
    "plt.show()\n"
   ]
  },
  {
   "cell_type": "code",
   "execution_count": 25,
   "id": "59286fff",
   "metadata": {},
   "outputs": [
    {
     "name": "stdout",
     "output_type": "stream",
     "text": [
      "   rating      mean  count\n",
      "0       1  0.995235     34\n",
      "1       2  0.960082     17\n",
      "2       3  0.997640     12\n",
      "3       4  0.972959     22\n",
      "4       5  0.984529    322\n"
     ]
    }
   ],
   "source": [
    "# Group by rating and calculate mean sentiment score\n",
    "rating_sentiment = df.groupby(\"rating\")[\"sentiment_score\"].agg(['mean', 'count']).reset_index()\n",
    "print(rating_sentiment)\n"
   ]
  },
  {
   "cell_type": "code",
   "execution_count": 26,
   "id": "ef5d5057",
   "metadata": {},
   "outputs": [
    {
     "name": "stderr",
     "output_type": "stream",
     "text": [
      "C:\\Users\\HP\\AppData\\Local\\Temp\\ipykernel_11364\\2927510842.py:2: FutureWarning: \n",
      "\n",
      "Passing `palette` without assigning `hue` is deprecated and will be removed in v0.14.0. Assign the `x` variable to `hue` and set `legend=False` for the same effect.\n",
      "\n",
      "  sns.barplot(data=rating_sentiment, x=\"rating\", y=\"mean\", palette=\"coolwarm\")\n"
     ]
    },
    {
     "data": {
      "image/png": "[encoded data removed]",
      "text/plain": [
       "<Figure size 800x500 with 1 Axes>"
      ]
     },
     "metadata": {},
     "output_type": "display_data"
    }
   ],
   "source": [
    "\n",
    "\n",
    "plt.figure(figsize=(8,5))\n",
    "sns.barplot(data=rating_sentiment, x=\"rating\", y=\"mean\", palette=\"coolwarm\")\n",
    "plt.title(\"Average Sentiment Score by Rating\")\n",
    "plt.xlabel(\"Rating\")\n",
    "plt.ylabel(\"Average Sentiment Score\")\n",
    "plt.ylim(0, 1)  # if your sentiment score is normalized\n",
    "plt.grid(axis='y', linestyle='--', alpha=0.7)\n",
    "plt.show()\n"
   ]
  },
  {
   "cell_type": "code",
   "execution_count": 27,
   "id": "4bcc889a",
   "metadata": {},
   "outputs": [
    {
     "name": "stderr",
     "output_type": "stream",
     "text": [
      "C:\\Users\\HP\\AppData\\Local\\Temp\\ipykernel_11364\\824301951.py:1: FutureWarning: \n",
      "\n",
      "Passing `palette` without assigning `hue` is deprecated and will be removed in v0.14.0. Assign the `x` variable to `hue` and set `legend=False` for the same effect.\n",
      "\n",
      "  sns.boxplot(data=df, x=\"rating\", y=\"sentiment_score\", palette=\"viridis\")\n"
     ]
    },
    {
     "data": {
      "image/png": "[encoded data removed]",
      "text/plain": [
       "<Figure size 640x480 with 1 Axes>"
      ]
     },
     "metadata": {},
     "output_type": "display_data"
    }
   ],
   "source": [
    "sns.boxplot(data=df, x=\"rating\", y=\"sentiment_score\", palette=\"viridis\")\n",
    "plt.title(\"Sentiment Score Distribution by Rating\")\n",
    "plt.xlabel(\"Rating\")\n",
    "plt.ylabel(\"Sentiment Score\")\n",
    "plt.show()\n"
   ]
  }
 ],
 "metadata": {
  "kernelspec": {
   "display_name": "week-2",
   "language": "python",
   "name": "python3"
  },
  "language_info": {
   "codemirror_mode": {
    "name": "ipython",
    "version": 3
   },
   "file_extension": ".py",
   "mimetype": "text/x-python",
   "name": "python",
   "nbconvert_exporter": "python",
   "pygments_lexer": "ipython3",
   "version": "3.11.9"
  }
 },
 "nbformat": 4,
 "nbformat_minor": 5
}
