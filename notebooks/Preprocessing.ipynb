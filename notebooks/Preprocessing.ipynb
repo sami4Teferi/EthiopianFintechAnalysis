{
 "cells": [
  {
   "cell_type": "code",
   "execution_count": 4,
   "id": "b4fda7b8",
   "metadata": {},
   "outputs": [],
   "source": [
    "import sys\n",
    "sys.path.append('../scripts')"
   ]
  },
  {
   "cell_type": "code",
   "execution_count": 5,
   "id": "9c634f1b",
   "metadata": {},
   "outputs": [
    {
     "ename": "ModuleNotFoundError",
     "evalue": "No module named 'pandas'",
     "output_type": "error",
     "traceback": [
      "\u001b[31m---------------------------------------------------------------------------\u001b[39m",
      "\u001b[31mModuleNotFoundError\u001b[39m                       Traceback (most recent call last)",
      "\u001b[36mCell\u001b[39m\u001b[36m \u001b[39m\u001b[32mIn[5]\u001b[39m\u001b[32m, line 1\u001b[39m\n\u001b[32m----> \u001b[39m\u001b[32m1\u001b[39m \u001b[38;5;28;01mfrom\u001b[39;00m\u001b[38;5;250m \u001b[39m\u001b[34;01mPreprocessing\u001b[39;00m\u001b[38;5;250m \u001b[39m\u001b[38;5;28;01mimport\u001b[39;00m (\n\u001b[32m      2\u001b[39m     load_data, show_duplicates, remove_duplicates,\n\u001b[32m      3\u001b[39m     show_missing, handle_missing, normalize_dates,\n\u001b[32m      4\u001b[39m     add_metadata, save_cleaned_reviews\n\u001b[32m      5\u001b[39m )\n",
      "\u001b[36mFile \u001b[39m\u001b[32mc:\\Users\\HP\\Desktop\\10 acd\\week 2\\week-2\\notebooks\\../scripts\\Preprocessing.py:1\u001b[39m\n\u001b[32m----> \u001b[39m\u001b[32m1\u001b[39m \u001b[38;5;28;01mimport\u001b[39;00m\u001b[38;5;250m \u001b[39m\u001b[34;01mpandas\u001b[39;00m\u001b[38;5;250m \u001b[39m\u001b[38;5;28;01mas\u001b[39;00m\u001b[38;5;250m \u001b[39m\u001b[34;01mpd\u001b[39;00m\n\u001b[32m      3\u001b[39m \u001b[38;5;28;01mdef\u001b[39;00m\u001b[38;5;250m \u001b[39m\u001b[34mload_data\u001b[39m(csv_path):\n\u001b[32m      4\u001b[39m \u001b[38;5;250m    \u001b[39m\u001b[33;03m\"\"\"\u001b[39;00m\n\u001b[32m      5\u001b[39m \u001b[33;03m    Load review CSV into DataFrame.\u001b[39;00m\n\u001b[32m      6\u001b[39m \u001b[33;03m    \"\"\"\u001b[39;00m\n",
      "\u001b[31mModuleNotFoundError\u001b[39m: No module named 'pandas'"
     ]
    }
   ],
   "source": [
    "from Preprocessing import (\n",
    "    load_data, show_duplicates, remove_duplicates,\n",
    "    show_missing, handle_missing, normalize_dates,\n",
    "    add_metadata, save_cleaned_reviews\n",
    ")"
   ]
  },
  {
   "cell_type": "code",
   "execution_count": null,
   "id": "3f30e745",
   "metadata": {},
   "outputs": [],
   "source": [
    "csv_path = r\"data\\CBE_reviews_20250608_100550.csv\"\n",
    "df = load_data(csv_path)"
   ]
  },
  {
   "cell_type": "code",
   "execution_count": null,
   "id": "2912f716",
   "metadata": {},
   "outputs": [],
   "source": [
    "duplicates = show_duplicates(df)\n",
    "display(duplicates)"
   ]
  },
  {
   "cell_type": "code",
   "execution_count": null,
   "id": "47ee4d60",
   "metadata": {},
   "outputs": [],
   "source": [
    "df = remove_duplicates(df)"
   ]
  },
  {
   "cell_type": "code",
   "execution_count": null,
   "id": "c1d1b67f",
   "metadata": {},
   "outputs": [],
   "source": [
    "missing = show_missing(df)\n",
    "display(missing)"
   ]
  },
  {
   "cell_type": "code",
   "execution_count": null,
   "id": "42b217a2",
   "metadata": {},
   "outputs": [],
   "source": [
    "df = handle_missing(df)"
   ]
  },
  {
   "cell_type": "code",
   "execution_count": null,
   "id": "b09d1f23",
   "metadata": {},
   "outputs": [],
   "source": [
    "df = normalize_dates(df)"
   ]
  },
  {
   "cell_type": "code",
   "execution_count": null,
   "id": "73dba798",
   "metadata": {},
   "outputs": [],
   "source": [
    "df = add_metadata(df, bank_name=\"CBE\")"
   ]
  },
  {
   "cell_type": "code",
   "execution_count": null,
   "id": "c2342ca2",
   "metadata": {},
   "outputs": [],
   "source": [
    "output_path = r\"c:\\Users\\HP\\Desktop\\10 acd\\week 2\\week-2\\data\\cleaned\\CBE_cleaned.csv\"\n",
    "save_cleaned_reviews(df, output_path)\n",
    "print(f\"✅ Cleaned data saved to: {output_path}\")"
   ]
  }
 ],
 "metadata": {
  "kernelspec": {
   "display_name": "week-2",
   "language": "python",
   "name": "python3"
  },
  "language_info": {
   "codemirror_mode": {
    "name": "ipython",
    "version": 3
   },
   "file_extension": ".py",
   "mimetype": "text/x-python",
   "name": "python",
   "nbconvert_exporter": "python",
   "pygments_lexer": "ipython3",
   "version": "3.11.9"
  }
 },
 "nbformat": 4,
 "nbformat_minor": 5
}
